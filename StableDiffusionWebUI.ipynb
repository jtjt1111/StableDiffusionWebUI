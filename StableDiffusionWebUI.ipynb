{
  "cells": [
    {
      "cell_type": "code",
      "execution_count": null,
      "metadata": {
        "execution": {
          "iopub.execute_input": "2023-05-04T00:18:49.242621Z",
          "iopub.status.busy": "2023-05-04T00:18:49.242782Z",
          "iopub.status.idle": "2023-05-04T00:18:49.242821Z",
          "shell.execute_reply": "2023-05-04T00:18:49.243111Z",
          "shell.execute_reply.started": "2023-05-04T00:18:49.243992Z"
        },
        "id": "qfGtMLwLpCr3"
      },
      "outputs": [],
      "source": [
        "#(3) WebUI起動\n",
        "!apt update\n",
        "!apt -y install python3.10\n",
        "!curl -sS https://bootstrap.pypa.io/get-pip.py | python3.10\n",
        "!python3.10 -m pip install torch==1.13.1+cu116 torchvision==0.14.1+cu116 torchaudio==0.13.1 --extra-index-url https://download.pytorch.org/whl/cu116 -U\n",
        "!python3.10 -m pip install -q xformers==0.0.16\n",
        "!python3.10 -m pip install -q triton==2.0.0\n",
        "!python3.10 -m pip install matplotlib -U\n",
        "from IPython import get_ipython\n",
        "get_ipython().run_line_magic('matplotlib', 'inline')\n",
        "%cd /notebooks/stable-diffusion-webui\n",
        "!python3.10 launch.py --enable-insecure-extension-access --share --gradio-queue\n"
      ]
    },
    {
      "cell_type": "code",
      "execution_count": null,
      "metadata": {
        "execution": {
          "iopub.execute_input": "2023-05-04T00:23:47.282813Z",
          "iopub.status.busy": "2023-05-04T00:23:47.338572Z",
          "iopub.status.idle": "2023-05-04T00:23:47.492823Z",
          "shell.execute_reply": "2023-05-04T00:23:47.873987Z",
          "shell.execute_reply.started": "2023-05-04T00:23:47.993273Z"
        },
        "id": "JMVf8COkpK0e"
      },
      "outputs": [],
      "source": [
        "#(1) AUTOMATIC1111のダウンロード\n",
        "%cd /notebooks\n",
        "!rm -rf stable-diffusion-webui\n",
        "!git clone https://github.com/AUTOMATIC1111/stable-diffusion-webui\n"
      ]
    },
    {
      "cell_type": "code",
      "execution_count": null,
      "metadata": {
        "execution": {
          "iopub.execute_input": "2023-05-04T00:26:31.145667Z",
          "iopub.status.busy": "2023-05-04T00:26:31.254243Z",
          "iopub.status.idle": "2023-05-04T00:26:31.364356Z",
          "shell.execute_reply": "2023-05-04T00:26:31.4431324Z",
          "shell.execute_reply.started": "2023-05-04T00:26:31.745243Z"
        },
        "id": "rIUmi3RhpQiW"
      },
      "outputs": [],
      "source": [
        "#(2) モデルのダウンロード（ここにダウンロードしたいモデルを追加）\n",
        "%cd /notebooks/stable-diffusion-webui/models/Stable-diffusion\n",
        "!wget -nc https://civitai.com/api/download/models/113479 -O BeautifulRealisticAsians_v6.safetensors\n",
        "!wget -nc https://civitai.com/api/download/models/94640 -O majicMIXrealistic_v6.safetensors\n",
        "\n",
        "%cd /notebooks/stable-diffusion-webui/embeddings\n",
        "!wget -nc https://civitai.com/api/download/models/60938 -O negative_hand-neg.pt\n",
        "!wget -nc https://huggingface.co/datasets/Nerfgun3/bad_prompt/resolve/main/bad_prompt_version2.pt -O bad_prompt.pt\n",
        "\n",
        "%cd /notebooks/stable-diffusion-webui/models/Lora\n",
        "!wget -nc https://civitai.com/api/download/models/52340 -O GirlfriendMix_v2.safetensors\n",
        "\n",
        "%cd /notebooks/stable-diffusion-webui/models/ControlNet\n",
        "!wget -nc https://huggingface.co/comfyanonymous/ControlNet-v1-1_fp16_safetensors/resolve/main/control_v11p_sd15_canny_fp16.safetensors -O control_v11p_sd15_canny_fp16.safetensors\n",
        "!wget -nc https://huggingface.co/comfyanonymous/ControlNet-v1-1_fp16_safetensors/resolve/main/control_v11p_sd15_openpose_fp16.safetensors -O control_v11p_sd15_openpose_fp16.safetensors\n"
      ]
    },
    {
      "cell_type": "code",
      "execution_count": null,
      "metadata": {
        "id": "a3c-0LBjpYXe"
      },
      "outputs": [],
      "source": [
        "#(4) AUTOMATIC1111アップデート（アップデートが必要な時のみ実行）\n",
        "%cd /notebooks/stable-diffusion-webui\n",
        "!git checkout master\n",
        "!git pull\n"
      ]
    }
  ],
  "metadata": {
    "colab": {
      "private_outputs": true,
      "provenance": []
    },
    "gpuClass": "standard",
    "kernelspec": {
      "display_name": "Python 3 (ipykernel)",
      "language": "python",
      "name": "python3"
    },
    "language_info": {
      "codemirror_mode": {
        "name": "ipython",
        "version": 3
      },
      "file_extension": ".py",
      "mimetype": "text/x-python",
      "name": "python",
      "nbconvert_exporter": "python",
      "pygments_lexer": "ipython3",
      "version": "3.9.16"
    }
  },
  "nbformat": 4,
  "nbformat_minor": 0
}
